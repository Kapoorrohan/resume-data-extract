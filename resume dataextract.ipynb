{
 "cells": [
  {
   "cell_type": "code",
   "execution_count": 1,
   "metadata": {},
   "outputs": [
    {
     "name": "stdout",
     "output_type": "stream",
     "text": [
      "Requirement already satisfied: pdfminer.six in c:\\users\\hp\\appdata\\local\\programs\\python\\python312\\lib\\site-packages (20240706)\n",
      "Requirement already satisfied: pandas in c:\\users\\hp\\appdata\\local\\programs\\python\\python312\\lib\\site-packages (2.2.2)\n",
      "Requirement already satisfied: openpyxl in c:\\users\\hp\\appdata\\local\\programs\\python\\python312\\lib\\site-packages (3.1.5)\n",
      "Requirement already satisfied: charset-normalizer>=2.0.0 in c:\\users\\hp\\appdata\\local\\programs\\python\\python312\\lib\\site-packages (from pdfminer.six) (3.3.2)\n",
      "Requirement already satisfied: cryptography>=36.0.0 in c:\\users\\hp\\appdata\\local\\programs\\python\\python312\\lib\\site-packages (from pdfminer.six) (43.0.0)\n",
      "Requirement already satisfied: numpy>=1.26.0 in c:\\users\\hp\\appdata\\local\\programs\\python\\python312\\lib\\site-packages (from pandas) (1.26.4)\n",
      "Requirement already satisfied: python-dateutil>=2.8.2 in c:\\users\\hp\\appdata\\roaming\\python\\python312\\site-packages (from pandas) (2.9.0.post0)\n",
      "Requirement already satisfied: pytz>=2020.1 in c:\\users\\hp\\appdata\\local\\programs\\python\\python312\\lib\\site-packages (from pandas) (2024.1)\n",
      "Requirement already satisfied: tzdata>=2022.7 in c:\\users\\hp\\appdata\\local\\programs\\python\\python312\\lib\\site-packages (from pandas) (2024.1)\n",
      "Requirement already satisfied: et-xmlfile in c:\\users\\hp\\appdata\\local\\programs\\python\\python312\\lib\\site-packages (from openpyxl) (1.1.0)\n",
      "Requirement already satisfied: cffi>=1.12 in c:\\users\\hp\\appdata\\local\\programs\\python\\python312\\lib\\site-packages (from cryptography>=36.0.0->pdfminer.six) (1.16.0)\n",
      "Requirement already satisfied: six>=1.5 in c:\\users\\hp\\appdata\\roaming\\python\\python312\\site-packages (from python-dateutil>=2.8.2->pandas) (1.16.0)\n",
      "Requirement already satisfied: pycparser in c:\\users\\hp\\appdata\\local\\programs\\python\\python312\\lib\\site-packages (from cffi>=1.12->cryptography>=36.0.0->pdfminer.six) (2.22)\n",
      "Note: you may need to restart the kernel to use updated packages.\n"
     ]
    },
    {
     "name": "stderr",
     "output_type": "stream",
     "text": [
      "\n",
      "[notice] A new release of pip is available: 24.0 -> 24.2\n",
      "[notice] To update, run: python.exe -m pip install --upgrade pip\n"
     ]
    }
   ],
   "source": [
    "pip install pdfminer.six pandas openpyxl"
   ]
  },
  {
   "cell_type": "code",
   "execution_count": 9,
   "metadata": {},
   "outputs": [],
   "source": [
    "import os\n",
    "import re\n",
    "from openpyxl import Workbook\n",
    "from pdfminer.high_level import extract_text\n",
    "\n",
    "def extract_contact_info(pdf_file):\n",
    "    # Extract text from the PDF file\n",
    "    text = extract_text(pdf_file, codec='utf-8', laparams=None)\n",
    "    \n",
    "    # Define regular expressions to extract contact info\n",
    "    phone_regex = r'\\b(\\d{10})\\b'\n",
    "    email_regex = r'\\b[A-Za-z0-9._%+-]+@[A-Za-z0-9.-]+\\.[A-Z|a-z]{2,}\\b'\n",
    "    name_regex = r'([A-Z][A-Za-z\\s]+[A-Za-z])'\n",
    "    \n",
    "    # Extract contact info using regular expressions\n",
    "    phone_match = re.search(phone_regex, text)\n",
    "    email_match = re.search(email_regex, text)\n",
    "    name_match = re.search(name_regex, text)\n",
    "    \n",
    "    # Return a dictionary containing the contact info\n",
    "    return {\n",
    "        'name': name_match.group(1) if name_match else None,\n",
    "        'email': email_match.group() if email_match else None,\n",
    "        'phone': phone_match.group(1)[-10:] if phone_match else None\n",
    "    }\n",
    "\n",
    "# Set the path to the directory containing the PDF files\n",
    "pdf_dir = 'C:/Users/HP/Documents/Hm/test'\n",
    "\n",
    "# Create a workbook to store the contact info\n",
    "wb = Workbook()\n",
    "ws = wb.active\n",
    "ws.append(['Name', 'Email', 'Phone'])\n",
    "\n",
    "# Iterate over the PDF files and extract the contact info\n",
    "for filename in os.listdir(pdf_dir):\n",
    "    if filename.endswith('.pdf'):\n",
    "        pdf_file = os.path.join(pdf_dir, filename)\n",
    "        contact_info = extract_contact_info(pdf_file)\n",
    "        ws.append([contact_info['name'], contact_info['email'], contact_info['phone']])\n",
    "\n",
    "# Save the workbook to a file\n",
    "output_file = 'C:/Users/HP/Documents/Hm/Data11.xlsx'\n",
    "wb.save(filename=output_file)"
   ]
  }
 ],
 "metadata": {
  "kernelspec": {
   "display_name": "Python 3",
   "language": "python",
   "name": "python3"
  },
  "language_info": {
   "codemirror_mode": {
    "name": "ipython",
    "version": 3
   },
   "file_extension": ".py",
   "mimetype": "text/x-python",
   "name": "python",
   "nbconvert_exporter": "python",
   "pygments_lexer": "ipython3",
   "version": "3.12.4"
  }
 },
 "nbformat": 4,
 "nbformat_minor": 2
}
